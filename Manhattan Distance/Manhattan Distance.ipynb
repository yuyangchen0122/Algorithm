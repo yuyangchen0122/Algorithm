{
 "cells": [
  {
   "cell_type": "code",
   "execution_count": null,
   "metadata": {},
   "outputs": [],
   "source": [
    "# Manhattan distance = |x1 – x2| + |y1 – y2|\n",
    "# Input : n = 4\n",
    "#         point1 = { -1, 5 }\n",
    "#         point2 = { 1, 6 }\n",
    "#         point3 = { 3, 5 }\n",
    "#         point4 = { 2, 3 }\n",
    "# Output : 22\n",
    "# Distance of { 1, 6 }, { 3, 5 }, { 2, 3 } from \n",
    "# { -1, 5 } are 3, 4, 5 respectively.\n",
    "# Therefore, sum = 3 + 4 + 5 = 12\n",
    "\n",
    "# Distance of { 3, 5 }, { 2, 3 } from { 1, 6 } \n",
    "# are 3, 4 respectively.\n",
    "# Therefore, sum = 12 + 3 + 4 = 19\n",
    "\n",
    "# Distance of { 2, 3 } from { 3, 5 } is 3.\n",
    "# Therefore, sum = 19 + 3 = 22."
   ]
  },
  {
   "cell_type": "code",
   "execution_count": 3,
   "metadata": {},
   "outputs": [
    {
     "name": "stdout",
     "output_type": "stream",
     "text": [
      "22\n"
     ]
    }
   ],
   "source": [
    "def distancesum (x, y, n): \n",
    "    sum = 0\n",
    "      \n",
    "    # for each point, finding distance \n",
    "    # to rest of the point \n",
    "    for i in range(n): \n",
    "        for j in range(i+1,n): \n",
    "            sum += (abs(x[i] - x[j]) +\n",
    "                        abs(y[i] - y[j])) \n",
    "      \n",
    "    return sum\n",
    "  \n",
    "# Driven Code \n",
    "x = [ -1, 1, 3, 2 ] \n",
    "y = [ 5, 6, 5, 3 ] \n",
    "n = len(x) \n",
    "print(distancesum(x, y, n) )"
   ]
  }
 ],
 "metadata": {
  "kernelspec": {
   "display_name": "Python 3",
   "language": "python",
   "name": "python3"
  },
  "language_info": {
   "codemirror_mode": {
    "name": "ipython",
    "version": 3
   },
   "file_extension": ".py",
   "mimetype": "text/x-python",
   "name": "python",
   "nbconvert_exporter": "python",
   "pygments_lexer": "ipython3",
   "version": "3.7.0"
  }
 },
 "nbformat": 4,
 "nbformat_minor": 2
}
