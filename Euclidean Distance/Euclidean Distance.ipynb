{
 "cells": [
  {
   "cell_type": "code",
   "execution_count": null,
   "metadata": {},
   "outputs": [],
   "source": [
    "# Euclidean Distance\n",
    "# Euclidean metric is the “ordinary” straight-line distance between two points.\n",
    "\n",
    "# if p = (p1, p2) and q = (q1, q2) then the distance is given by\n",
    "\n",
    "# d(p,q) = ((q1-p1)^2 + (q2-p2)^2)^(1/2)\n",
    "\n",
    "# For three dimension1, formula is\n",
    "\n",
    "# d(p,q) = ((q1-p1)^2 + (q2-p2)^2 + (q3-p3)^2)^(1/2)"
   ]
  },
  {
   "cell_type": "code",
   "execution_count": null,
   "metadata": {},
   "outputs": [],
   "source": [
    "import math\n",
    "\n",
    "def dist_points(x1,y1,x2,y2):\n",
    "    print(math.sqrt(((x2-x1)**2)+((y2-y1)**2)))\n",
    "\n",
    "while True:\n",
    "    x1 = float(input(\"Enter value for X1: \"))\t\n",
    "    y1 = float(input(\"Enter value for Y1: \"))\n",
    "    x2 = float(input(\"Enter value for X2: \"))\n",
    "    y2 = float(input(\"Enter value for Y2: \"))\n",
    "    dist_points(x1,y1,x2,y2)"
   ]
  }
 ],
 "metadata": {
  "kernelspec": {
   "display_name": "Python 3",
   "language": "python",
   "name": "python3"
  },
  "language_info": {
   "codemirror_mode": {
    "name": "ipython",
    "version": 3
   },
   "file_extension": ".py",
   "mimetype": "text/x-python",
   "name": "python",
   "nbconvert_exporter": "python",
   "pygments_lexer": "ipython3",
   "version": "3.7.0"
  }
 },
 "nbformat": 4,
 "nbformat_minor": 2
}
